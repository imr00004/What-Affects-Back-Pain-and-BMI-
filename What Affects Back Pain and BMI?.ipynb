{
 "cells": [
  {
   "cell_type": "markdown",
   "id": "9e64b555",
   "metadata": {},
   "source": [
    "## What affects back pain and BMI?"
   ]
  },
  {
   "cell_type": "markdown",
   "id": "7efe7dc6",
   "metadata": {},
   "source": [
    "The dataset below contains BMI and backpain for different gender, ages, races, and education levels."
   ]
  },
  {
   "cell_type": "code",
   "execution_count": 99,
   "id": "1e6a3d0e",
   "metadata": {},
   "outputs": [],
   "source": [
    "import pandas as pd\n",
    "import matplotlib.pyplot as plt\n",
    "import numpy as np"
   ]
  },
  {
   "cell_type": "code",
   "execution_count": 7,
   "id": "b3aa3452",
   "metadata": {},
   "outputs": [],
   "source": [
    "df=pd.read_excel('/Users/isabellareeser/APC-all.xlsx')"
   ]
  },
  {
   "cell_type": "code",
   "execution_count": 9,
   "id": "2f4e476c",
   "metadata": {},
   "outputs": [
    {
     "data": {
      "text/html": [
       "<div>\n",
       "<style scoped>\n",
       "    .dataframe tbody tr th:only-of-type {\n",
       "        vertical-align: middle;\n",
       "    }\n",
       "\n",
       "    .dataframe tbody tr th {\n",
       "        vertical-align: top;\n",
       "    }\n",
       "\n",
       "    .dataframe thead th {\n",
       "        text-align: right;\n",
       "    }\n",
       "</style>\n",
       "<table border=\"1\" class=\"dataframe\">\n",
       "  <thead>\n",
       "    <tr style=\"text-align: right;\">\n",
       "      <th></th>\n",
       "      <th>strata</th>\n",
       "      <th>psu</th>\n",
       "      <th>sampweight</th>\n",
       "      <th>pmonth</th>\n",
       "      <th>pyear</th>\n",
       "      <th>age</th>\n",
       "      <th>bmi</th>\n",
       "      <th>pcont</th>\n",
       "      <th>gender</th>\n",
       "      <th>race</th>\n",
       "      <th>edu4</th>\n",
       "      <th>backpain</th>\n",
       "      <th>Unnamed: 12</th>\n",
       "      <th>Unnamed: 13</th>\n",
       "    </tr>\n",
       "  </thead>\n",
       "  <tbody>\n",
       "    <tr>\n",
       "      <th>0</th>\n",
       "      <td>5068.0</td>\n",
       "      <td>1.0</td>\n",
       "      <td>7213.0</td>\n",
       "      <td>March</td>\n",
       "      <td>1997.0</td>\n",
       "      <td>30.0</td>\n",
       "      <td>19.92</td>\n",
       "      <td>0.007576</td>\n",
       "      <td>Male</td>\n",
       "      <td>White</td>\n",
       "      <td>LHS/GED</td>\n",
       "      <td>1.0</td>\n",
       "      <td>NaN</td>\n",
       "      <td>27.148667</td>\n",
       "    </tr>\n",
       "    <tr>\n",
       "      <th>1</th>\n",
       "      <td>5236.0</td>\n",
       "      <td>2.0</td>\n",
       "      <td>3292.0</td>\n",
       "      <td>June</td>\n",
       "      <td>1997.0</td>\n",
       "      <td>30.0</td>\n",
       "      <td>25.62</td>\n",
       "      <td>0.018939</td>\n",
       "      <td>Male</td>\n",
       "      <td>Black</td>\n",
       "      <td>LHS/GED</td>\n",
       "      <td>1.0</td>\n",
       "      <td>NaN</td>\n",
       "      <td>27.226154</td>\n",
       "    </tr>\n",
       "    <tr>\n",
       "      <th>2</th>\n",
       "      <td>5259.0</td>\n",
       "      <td>2.0</td>\n",
       "      <td>3562.0</td>\n",
       "      <td>June</td>\n",
       "      <td>1997.0</td>\n",
       "      <td>30.0</td>\n",
       "      <td>19.77</td>\n",
       "      <td>0.018939</td>\n",
       "      <td>Male</td>\n",
       "      <td>White</td>\n",
       "      <td>LHS/GED</td>\n",
       "      <td>0.0</td>\n",
       "      <td>NaN</td>\n",
       "      <td>NaN</td>\n",
       "    </tr>\n",
       "    <tr>\n",
       "      <th>3</th>\n",
       "      <td>5217.0</td>\n",
       "      <td>2.0</td>\n",
       "      <td>7329.0</td>\n",
       "      <td>July</td>\n",
       "      <td>1997.0</td>\n",
       "      <td>30.0</td>\n",
       "      <td>20.74</td>\n",
       "      <td>0.022727</td>\n",
       "      <td>Male</td>\n",
       "      <td>White</td>\n",
       "      <td>LHS/GED</td>\n",
       "      <td>0.0</td>\n",
       "      <td>NaN</td>\n",
       "      <td>NaN</td>\n",
       "    </tr>\n",
       "    <tr>\n",
       "      <th>4</th>\n",
       "      <td>5253.0</td>\n",
       "      <td>1.0</td>\n",
       "      <td>7371.0</td>\n",
       "      <td>December</td>\n",
       "      <td>1997.0</td>\n",
       "      <td>30.0</td>\n",
       "      <td>22.32</td>\n",
       "      <td>0.041667</td>\n",
       "      <td>Male</td>\n",
       "      <td>White</td>\n",
       "      <td>LHS/GED</td>\n",
       "      <td>0.0</td>\n",
       "      <td>NaN</td>\n",
       "      <td>NaN</td>\n",
       "    </tr>\n",
       "    <tr>\n",
       "      <th>5</th>\n",
       "      <td>5266.0</td>\n",
       "      <td>1.0</td>\n",
       "      <td>2785.0</td>\n",
       "      <td>February</td>\n",
       "      <td>1997.0</td>\n",
       "      <td>30.0</td>\n",
       "      <td>41.32</td>\n",
       "      <td>0.003788</td>\n",
       "      <td>Male</td>\n",
       "      <td>Hispanic</td>\n",
       "      <td>LHS/GED</td>\n",
       "      <td>0.0</td>\n",
       "      <td>NaN</td>\n",
       "      <td>NaN</td>\n",
       "    </tr>\n",
       "    <tr>\n",
       "      <th>6</th>\n",
       "      <td>5124.0</td>\n",
       "      <td>2.0</td>\n",
       "      <td>2456.0</td>\n",
       "      <td>March</td>\n",
       "      <td>1997.0</td>\n",
       "      <td>30.0</td>\n",
       "      <td>25.83</td>\n",
       "      <td>0.007576</td>\n",
       "      <td>Male</td>\n",
       "      <td>Hispanic</td>\n",
       "      <td>LHS/GED</td>\n",
       "      <td>1.0</td>\n",
       "      <td>NaN</td>\n",
       "      <td>NaN</td>\n",
       "    </tr>\n",
       "    <tr>\n",
       "      <th>7</th>\n",
       "      <td>5002.0</td>\n",
       "      <td>2.0</td>\n",
       "      <td>3491.0</td>\n",
       "      <td>September</td>\n",
       "      <td>1997.0</td>\n",
       "      <td>30.0</td>\n",
       "      <td>35.16</td>\n",
       "      <td>0.030303</td>\n",
       "      <td>Male</td>\n",
       "      <td>Hispanic</td>\n",
       "      <td>LHS/GED</td>\n",
       "      <td>0.0</td>\n",
       "      <td>NaN</td>\n",
       "      <td>NaN</td>\n",
       "    </tr>\n",
       "    <tr>\n",
       "      <th>8</th>\n",
       "      <td>5299.0</td>\n",
       "      <td>2.0</td>\n",
       "      <td>7334.0</td>\n",
       "      <td>July</td>\n",
       "      <td>1997.0</td>\n",
       "      <td>30.0</td>\n",
       "      <td>28.96</td>\n",
       "      <td>0.022727</td>\n",
       "      <td>Male</td>\n",
       "      <td>White</td>\n",
       "      <td>LHS/GED</td>\n",
       "      <td>0.0</td>\n",
       "      <td>NaN</td>\n",
       "      <td>NaN</td>\n",
       "    </tr>\n",
       "    <tr>\n",
       "      <th>9</th>\n",
       "      <td>5300.0</td>\n",
       "      <td>2.0</td>\n",
       "      <td>4772.0</td>\n",
       "      <td>April</td>\n",
       "      <td>1997.0</td>\n",
       "      <td>30.0</td>\n",
       "      <td>21.52</td>\n",
       "      <td>0.011364</td>\n",
       "      <td>Male</td>\n",
       "      <td>White</td>\n",
       "      <td>LHS/GED</td>\n",
       "      <td>0.0</td>\n",
       "      <td>NaN</td>\n",
       "      <td>NaN</td>\n",
       "    </tr>\n",
       "  </tbody>\n",
       "</table>\n",
       "</div>"
      ],
      "text/plain": [
       "   strata  psu  sampweight     pmonth   pyear   age    bmi     pcont gender  \\\n",
       "0  5068.0  1.0      7213.0      March  1997.0  30.0  19.92  0.007576   Male   \n",
       "1  5236.0  2.0      3292.0       June  1997.0  30.0  25.62  0.018939   Male   \n",
       "2  5259.0  2.0      3562.0       June  1997.0  30.0  19.77  0.018939   Male   \n",
       "3  5217.0  2.0      7329.0       July  1997.0  30.0  20.74  0.022727   Male   \n",
       "4  5253.0  1.0      7371.0   December  1997.0  30.0  22.32  0.041667   Male   \n",
       "5  5266.0  1.0      2785.0   February  1997.0  30.0  41.32  0.003788   Male   \n",
       "6  5124.0  2.0      2456.0      March  1997.0  30.0  25.83  0.007576   Male   \n",
       "7  5002.0  2.0      3491.0  September  1997.0  30.0  35.16  0.030303   Male   \n",
       "8  5299.0  2.0      7334.0       July  1997.0  30.0  28.96  0.022727   Male   \n",
       "9  5300.0  2.0      4772.0      April  1997.0  30.0  21.52  0.011364   Male   \n",
       "\n",
       "       race     edu4  backpain  Unnamed: 12  Unnamed: 13  \n",
       "0     White  LHS/GED       1.0          NaN    27.148667  \n",
       "1     Black  LHS/GED       1.0          NaN    27.226154  \n",
       "2     White  LHS/GED       0.0          NaN          NaN  \n",
       "3     White  LHS/GED       0.0          NaN          NaN  \n",
       "4     White  LHS/GED       0.0          NaN          NaN  \n",
       "5  Hispanic  LHS/GED       0.0          NaN          NaN  \n",
       "6  Hispanic  LHS/GED       1.0          NaN          NaN  \n",
       "7  Hispanic  LHS/GED       0.0          NaN          NaN  \n",
       "8     White  LHS/GED       0.0          NaN          NaN  \n",
       "9     White  LHS/GED       0.0          NaN          NaN  "
      ]
     },
     "execution_count": 9,
     "metadata": {},
     "output_type": "execute_result"
    }
   ],
   "source": [
    "df[:10]"
   ]
  },
  {
   "cell_type": "markdown",
   "id": "ada353a3",
   "metadata": {},
   "source": [
    "Comparing the differences in back pain and BMI for males and females."
   ]
  },
  {
   "cell_type": "markdown",
   "id": "7568f40d",
   "metadata": {},
   "source": [
    "Females and males have different body structures. Men typically have an easier time executing tasks that can be straining on our bodies."
   ]
  },
  {
   "cell_type": "code",
   "execution_count": 90,
   "id": "7674ca8d",
   "metadata": {},
   "outputs": [],
   "source": [
    "female=df[df['gender']=='Female'][['backpain','gender']]\n",
    "male=df[df['gender']=='Male'][['backpain','gender']]\n",
    "female_bmi=df[df['gender']=='Female'][['bmi','gender']]\n",
    "male_bmi=df[df['gender']=='Male'][['bmi','gender']]"
   ]
  },
  {
   "cell_type": "code",
   "execution_count": 93,
   "id": "bf91f11e",
   "metadata": {},
   "outputs": [
    {
     "data": {
      "text/plain": [
       "[Text(0.5, 1.0, 'Male')]"
      ]
     },
     "execution_count": 93,
     "metadata": {},
     "output_type": "execute_result"
    },
    {
     "data": {
      "image/png": "[encoded data removed]",
      "text/plain": [
       "<Figure size 792x792 with 4 Axes>"
      ]
     },
     "metadata": {
      "needs_background": "light"
     },
     "output_type": "display_data"
    }
   ],
   "source": [
    "fig, axs = plt.subplots(2,2, figsize=(11,11))\n",
    "fig.suptitle('Difference in Backpain and BMI for Men vs. Women')\n",
    "axs[0,0].hist(female['backpain'], color=\"pink\")\n",
    "axs[0,1].hist(male['backpain'], color=\"green\")\n",
    "axs[0,0].set(xlabel='0 Backpain or 1 for Backpain', ylabel='Amount of Response')\n",
    "axs[0,1].set(xlabel='0 Backpain or 1 for Backpain', ylabel='Amount of Response')\n",
    "axs[0,0].set(title=\"Female\")\n",
    "axs[0,1].set(title=\"Male\")\n",
    "\n",
    "axs[1,0].hist(female_bmi['bmi'], color=\"pink\")\n",
    "axs[1,1].hist(male_bmi['bmi'], color=\"green\")\n",
    "axs[1,0].set(xlabel='BMI', ylabel='Amount of Response')\n",
    "axs[1,1].set(xlabel='BMI', ylabel='Amount of Response')\n",
    "axs[1,0].set(title=\"Female\")\n",
    "axs[1,1].set(title=\"Male\")"
   ]
  },
  {
   "cell_type": "markdown",
   "id": "42bb2c98",
   "metadata": {},
   "source": [
    "I used a histogram to show the difference between yes or no responses for back pain for men and women. I also used a histogram to compare BMI. The x-axis shows either backpain or BMI. The y-axis shows the number of responses. More women said yes to backpain than men. Most males have a higher BMI than females. I believe we can conclude that gender does have an affect on back pain levels as the graphs clearly show females having a higher yes rate than men."
   ]
  },
  {
   "cell_type": "markdown",
   "id": "30500fe4",
   "metadata": {},
   "source": [
    "Summary Statistics for BMI"
   ]
  },
  {
   "cell_type": "code",
   "execution_count": 107,
   "id": "80406464",
   "metadata": {},
   "outputs": [
    {
     "data": {
      "text/plain": [
       "28.4942"
      ]
     },
     "execution_count": 107,
     "metadata": {},
     "output_type": "execute_result"
    }
   ],
   "source": [
    "round(np.mean(male_bmi['bmi']),4)"
   ]
  },
  {
   "cell_type": "code",
   "execution_count": 108,
   "id": "c34dc439",
   "metadata": {},
   "outputs": [
    {
     "data": {
      "text/plain": [
       "27.45"
      ]
     },
     "execution_count": 108,
     "metadata": {},
     "output_type": "execute_result"
    }
   ],
   "source": [
    "round(np.median(male_bmi['bmi']),4)"
   ]
  },
  {
   "cell_type": "code",
   "execution_count": 109,
   "id": "027cb676",
   "metadata": {},
   "outputs": [
    {
     "data": {
      "text/plain": [
       "5.5577"
      ]
     },
     "execution_count": 109,
     "metadata": {},
     "output_type": "execute_result"
    }
   ],
   "source": [
    "round(np.std(male_bmi['bmi']),4)"
   ]
  },
  {
   "cell_type": "code",
   "execution_count": 110,
   "id": "452021f7",
   "metadata": {},
   "outputs": [
    {
     "data": {
      "text/plain": [
       "30.8875"
      ]
     },
     "execution_count": 110,
     "metadata": {},
     "output_type": "execute_result"
    }
   ],
   "source": [
    "round(np.var(male_bmi['bmi']),4)"
   ]
  },
  {
   "cell_type": "code",
   "execution_count": 111,
   "id": "9d83d484",
   "metadata": {},
   "outputs": [
    {
     "data": {
      "text/plain": [
       "28.2985"
      ]
     },
     "execution_count": 111,
     "metadata": {},
     "output_type": "execute_result"
    }
   ],
   "source": [
    "round(np.mean(female_bmi['bmi']),4)"
   ]
  },
  {
   "cell_type": "code",
   "execution_count": 112,
   "id": "1b243a44",
   "metadata": {},
   "outputs": [
    {
     "data": {
      "text/plain": [
       "26.63"
      ]
     },
     "execution_count": 112,
     "metadata": {},
     "output_type": "execute_result"
    }
   ],
   "source": [
    "round(np.median(female_bmi['bmi']),4)"
   ]
  },
  {
   "cell_type": "code",
   "execution_count": 113,
   "id": "aa9a58c9",
   "metadata": {},
   "outputs": [
    {
     "data": {
      "text/plain": [
       "7.1248"
      ]
     },
     "execution_count": 113,
     "metadata": {},
     "output_type": "execute_result"
    }
   ],
   "source": [
    "round(np.std(female_bmi['bmi']),4)"
   ]
  },
  {
   "cell_type": "code",
   "execution_count": 114,
   "id": "0ab4d29d",
   "metadata": {},
   "outputs": [
    {
     "data": {
      "text/plain": [
       "50.7626"
      ]
     },
     "execution_count": 114,
     "metadata": {},
     "output_type": "execute_result"
    }
   ],
   "source": [
    "round(np.var(female_bmi['bmi']),4)"
   ]
  },
  {
   "cell_type": "markdown",
   "id": "f0ec3885",
   "metadata": {},
   "source": [
    "|Male BMI | Female BMI | \n",
    "| :- | -: |\n",
    "|mean: 28.4942|mean: 28.2985|\n",
    "|median: 27.45|median: 26.63|\n",
    "|standard deviation: 5.5577|standard deviation: 7.1248|\n",
    "|variance: 30.8875|variance: 50.7626|"
   ]
  },
  {
   "cell_type": "markdown",
   "id": "655c4032",
   "metadata": {},
   "source": [
    "The average BMI is higher in males than females, as well as the median. The standard deviation is lower for males than females meaning the values are more clustered around the mean for males. The variance is also a lot lower for males than females meaning the values are less spread out from the mean than females. However, the average BMI for males is only slightly higher for men than women. Since the difference is not much more significant, I believe we can conclude gender does not necessarily affect BMI levels."
   ]
  },
  {
   "cell_type": "markdown",
   "id": "930c55f0",
   "metadata": {},
   "source": [
    "Comparing BMI and back pain between different races"
   ]
  },
  {
   "cell_type": "markdown",
   "id": "36285e09",
   "metadata": {},
   "source": [
    "I do not think race will have much of an effect. Race does not effect our bodies or the things we are able to do when it comes to them."
   ]
  },
  {
   "cell_type": "code",
   "execution_count": 123,
   "id": "9cc9625d",
   "metadata": {},
   "outputs": [],
   "source": [
    "white_bmi=df[df['race']=='White'][['bmi','race']]\n",
    "white_bp=df[df['race']=='White'][['backpain','race']]\n",
    "\n",
    "black_bmi=df[df['race']=='Black'][['bmi','race']]\n",
    "black_bp=df[df['race']=='Black'][['backpain','race']]\n",
    "\n",
    "hispanic_bmi=df[df['race']=='Hispanic'][['bmi','race']]\n",
    "hispanic_bp=df[df['race']=='Hispanic'][['backpain','race']]\n",
    "\n",
    "other_bmi=df[df['race']=='Other'][['bmi','race']]\n",
    "other_bp=df[df['race']=='Other'][['backpain','race']]"
   ]
  },
  {
   "cell_type": "code",
   "execution_count": 173,
   "id": "65ae4aef",
   "metadata": {},
   "outputs": [
    {
     "data": {
      "text/plain": [
       "[Text(0.5, 1.0, 'Other')]"
      ]
     },
     "execution_count": 173,
     "metadata": {},
     "output_type": "execute_result"
    },
    {
     "data": {
      "image/png": "[encoded data removed]",
      "text/plain": [
       "<Figure size 1440x1440 with 8 Axes>"
      ]
     },
     "metadata": {
      "needs_background": "light"
     },
     "output_type": "display_data"
    }
   ],
   "source": [
    "fig, axs = plt.subplots(4,2, figsize=(20,20))\n",
    "fig.suptitle('Difference in Backpain and BMI for Different Races')\n",
    "axs[0,0].hist(white_bmi['bmi'], color=\"purple\")\n",
    "axs[0,1].hist(white_bp['backpain'], color=\"orange\")\n",
    "axs[1,0].hist(black_bmi['bmi'], color=\"purple\")\n",
    "axs[1,1].hist(black_bp['backpain'], color=\"orange\")\n",
    "axs[2,0].hist(hispanic_bmi['bmi'], color=\"purple\")\n",
    "axs[2,1].hist(hispanic_bp['backpain'], color=\"orange\")\n",
    "axs[3,0].hist(other_bmi['bmi'], color=\"purple\")\n",
    "axs[3,1].hist(other_bp['backpain'], color=\"orange\")\n",
    "\n",
    "axs[0,0].set(xlabel='BMI', ylabel='Amount of Response')\n",
    "axs[0,1].set(xlabel='0 Backpain or 1 for Backpain', ylabel='Amount of Response')\n",
    "axs[1,0].set(xlabel='BMI', ylabel='Amount of Response')\n",
    "axs[1,1].set(xlabel='0 Backpain or 1 for Backpain', ylabel='Amount of Response')\n",
    "axs[2,0].set(xlabel='BMI', ylabel='Amount of Response')\n",
    "axs[2,1].set(xlabel='0 Backpain or 1 for Backpain', ylabel='Amount of Response')\n",
    "axs[3,0].set(xlabel='BMI', ylabel='Amount of Response')\n",
    "axs[3,1].set(xlabel='0 Backpain or 1 for Backpain', ylabel='Amount of Response')\n",
    "\n",
    "axs[0,0].set(title=\"White\")\n",
    "axs[0,1].set(title=\"White\")\n",
    "axs[1,0].set(title=\"Black\")\n",
    "axs[1,1].set(title=\"Black\")\n",
    "axs[2,0].set(title=\"Hispanic\")\n",
    "axs[2,1].set(title=\"Hispanic\")\n",
    "axs[3,0].set(title=\"Other\")\n",
    "axs[3,1].set(title=\"Other\")"
   ]
  },
  {
   "cell_type": "markdown",
   "id": "d7dc90bc",
   "metadata": {},
   "source": [
    "The four subplots on the left show BMI for each race. The four subplots on the right show back pain for each race. The x-axis shows either BMI or back pain. The y-axis shows the number of response. What is interesting about back pain responses is that they each show a very similar yes to no ratio. The highest amount of back pain yes responses lies within the white race. However, I believe we can conclude that race does not have an affect on back pain since the ratios are so similar."
   ]
  },
  {
   "cell_type": "markdown",
   "id": "7252a1d0",
   "metadata": {},
   "source": [
    "Summary Statistics for BMI"
   ]
  },
  {
   "cell_type": "code",
   "execution_count": 137,
   "id": "07adf940",
   "metadata": {},
   "outputs": [
    {
     "data": {
      "text/plain": [
       "27.9161"
      ]
     },
     "execution_count": 137,
     "metadata": {},
     "output_type": "execute_result"
    }
   ],
   "source": [
    "round(np.mean(white_bmi['bmi']),4)"
   ]
  },
  {
   "cell_type": "code",
   "execution_count": 138,
   "id": "9150f5e4",
   "metadata": {},
   "outputs": [
    {
     "data": {
      "text/plain": [
       "29.9648"
      ]
     },
     "execution_count": 138,
     "metadata": {},
     "output_type": "execute_result"
    }
   ],
   "source": [
    "round(np.mean(black_bmi['bmi']),4)"
   ]
  },
  {
   "cell_type": "code",
   "execution_count": 139,
   "id": "15f8b0ed",
   "metadata": {},
   "outputs": [
    {
     "data": {
      "text/plain": [
       "29.6028"
      ]
     },
     "execution_count": 139,
     "metadata": {},
     "output_type": "execute_result"
    }
   ],
   "source": [
    "round(np.mean(hispanic_bmi['bmi']),4)"
   ]
  },
  {
   "cell_type": "code",
   "execution_count": 140,
   "id": "17286406",
   "metadata": {},
   "outputs": [
    {
     "data": {
      "text/plain": [
       "28.5296"
      ]
     },
     "execution_count": 140,
     "metadata": {},
     "output_type": "execute_result"
    }
   ],
   "source": [
    "round(np.mean(other_bmi['bmi']),4)"
   ]
  },
  {
   "cell_type": "code",
   "execution_count": 141,
   "id": "49f6128b",
   "metadata": {},
   "outputs": [
    {
     "data": {
      "text/plain": [
       "26.63"
      ]
     },
     "execution_count": 141,
     "metadata": {},
     "output_type": "execute_result"
    }
   ],
   "source": [
    "round(np.median(white_bmi['bmi']),4)"
   ]
  },
  {
   "cell_type": "code",
   "execution_count": 142,
   "id": "7e361131",
   "metadata": {},
   "outputs": [
    {
     "data": {
      "text/plain": [
       "28.77"
      ]
     },
     "execution_count": 142,
     "metadata": {},
     "output_type": "execute_result"
    }
   ],
   "source": [
    "round(np.median(black_bmi['bmi']),4)"
   ]
  },
  {
   "cell_type": "code",
   "execution_count": 143,
   "id": "00efe2b8",
   "metadata": {},
   "outputs": [
    {
     "data": {
      "text/plain": [
       "28.36"
      ]
     },
     "execution_count": 143,
     "metadata": {},
     "output_type": "execute_result"
    }
   ],
   "source": [
    "round(np.median(hispanic_bmi['bmi']),4)"
   ]
  },
  {
   "cell_type": "code",
   "execution_count": 144,
   "id": "8631ff03",
   "metadata": {},
   "outputs": [
    {
     "data": {
      "text/plain": [
       "27.41"
      ]
     },
     "execution_count": 144,
     "metadata": {},
     "output_type": "execute_result"
    }
   ],
   "source": [
    "round(np.median(other_bmi['bmi']),4)"
   ]
  },
  {
   "cell_type": "code",
   "execution_count": 145,
   "id": "caf01b9f",
   "metadata": {},
   "outputs": [
    {
     "data": {
      "text/plain": [
       "6.1373"
      ]
     },
     "execution_count": 145,
     "metadata": {},
     "output_type": "execute_result"
    }
   ],
   "source": [
    "round(np.std(white_bmi['bmi']),4)"
   ]
  },
  {
   "cell_type": "code",
   "execution_count": 146,
   "id": "abffb846",
   "metadata": {},
   "outputs": [
    {
     "data": {
      "text/plain": [
       "7.0225"
      ]
     },
     "execution_count": 146,
     "metadata": {},
     "output_type": "execute_result"
    }
   ],
   "source": [
    "round(np.std(black_bmi['bmi']),4)"
   ]
  },
  {
   "cell_type": "code",
   "execution_count": 147,
   "id": "1a94b1f7",
   "metadata": {},
   "outputs": [
    {
     "data": {
      "text/plain": [
       "6.5573"
      ]
     },
     "execution_count": 147,
     "metadata": {},
     "output_type": "execute_result"
    }
   ],
   "source": [
    "round(np.std(hispanic_bmi['bmi']),4)"
   ]
  },
  {
   "cell_type": "code",
   "execution_count": 148,
   "id": "0be70852",
   "metadata": {},
   "outputs": [
    {
     "data": {
      "text/plain": [
       "6.6053"
      ]
     },
     "execution_count": 148,
     "metadata": {},
     "output_type": "execute_result"
    }
   ],
   "source": [
    "round(np.std(other_bmi['bmi']),4)"
   ]
  },
  {
   "cell_type": "code",
   "execution_count": 149,
   "id": "d92036ca",
   "metadata": {},
   "outputs": [
    {
     "data": {
      "text/plain": [
       "37.667"
      ]
     },
     "execution_count": 149,
     "metadata": {},
     "output_type": "execute_result"
    }
   ],
   "source": [
    "round(np.var(white_bmi['bmi']),4)"
   ]
  },
  {
   "cell_type": "code",
   "execution_count": 150,
   "id": "11d5b1cc",
   "metadata": {},
   "outputs": [
    {
     "data": {
      "text/plain": [
       "49.3158"
      ]
     },
     "execution_count": 150,
     "metadata": {},
     "output_type": "execute_result"
    }
   ],
   "source": [
    "round(np.var(black_bmi['bmi']),4)"
   ]
  },
  {
   "cell_type": "code",
   "execution_count": 151,
   "id": "1ed7a123",
   "metadata": {},
   "outputs": [
    {
     "data": {
      "text/plain": [
       "42.9979"
      ]
     },
     "execution_count": 151,
     "metadata": {},
     "output_type": "execute_result"
    }
   ],
   "source": [
    "round(np.var(hispanic_bmi['bmi']),4)"
   ]
  },
  {
   "cell_type": "code",
   "execution_count": 152,
   "id": "e096ff86",
   "metadata": {},
   "outputs": [
    {
     "data": {
      "text/plain": [
       "43.6296"
      ]
     },
     "execution_count": 152,
     "metadata": {},
     "output_type": "execute_result"
    }
   ],
   "source": [
    "round(np.var(other_bmi['bmi']),4)"
   ]
  },
  {
   "cell_type": "markdown",
   "id": "9a37abaa",
   "metadata": {},
   "source": [
    "| White | Black | Hispanic | Other|\n",
    "| :- | -: | :-: | :-:|\n",
    "|mean: 27.9161|mean: 29.9648|mean: 29.6028|mean: 28.5296|\n",
    "|median: 26.63|median: 28.77|median: 28.36|median: 27.41|\n",
    "|standard deviation: 6.1373|standard deviation: 7.0225|standard deviation: 6.5573|standard deviation: 6.6053|\n",
    "|variance: 37.667|variance: 49.3158|variance: 42.9979|variance: 43.6296|"
   ]
  },
  {
   "cell_type": "markdown",
   "id": "0d25e670",
   "metadata": {},
   "source": [
    "The black race has the highest average BMI as well as the highest median value. However, the black race also has the highest standard deviation and variance. Therefore, the values are more spread out from the average. The white race has the lowest average, median, standard deviation, and variance. Therefore, the values are closer to the mean. However, overall, the averages and other values are not much further apart. I believe we can conclude, that race does not affect BMI."
   ]
  },
  {
   "cell_type": "markdown",
   "id": "7babd3d1",
   "metadata": {},
   "source": [
    "Comparing BMI and back pain between different educational levels"
   ]
  },
  {
   "cell_type": "markdown",
   "id": "1d2cd66e",
   "metadata": {},
   "source": [
    "Many aspects of a persons life effect their educational level. Anything from the way they were influenced growing up to personal health issues can effect the outcome. Different educational levels also mean different jobs. Some can be more strenuous on the body than others."
   ]
  },
  {
   "cell_type": "code",
   "execution_count": 193,
   "id": "6b899fb6",
   "metadata": {},
   "outputs": [],
   "source": [
    "LHS_GED=df[df['edu4']=='LHS/GED'][['backpain','bmi', 'edu4']]\n",
    "HS=df[df['edu4']=='HS'][['backpain','bmi', 'edu4']]\n",
    "SC_AA=df[df['edu4']=='SC/AA'][['backpain','bmi', 'edu4']]\n",
    "BA=df[df['edu4']=='BA+'][['backpain','bmi', 'edu4']]"
   ]
  },
  {
   "cell_type": "code",
   "execution_count": 195,
   "id": "aa8a81fa",
   "metadata": {},
   "outputs": [
    {
     "data": {
      "text/plain": [
       "[Text(0.5, 1.0, 'BA')]"
      ]
     },
     "execution_count": 195,
     "metadata": {},
     "output_type": "execute_result"
    },
    {
     "data": {
      "image/png": "[encoded data removed]",
      "text/plain": [
       "<Figure size 1440x1440 with 8 Axes>"
      ]
     },
     "metadata": {
      "needs_background": "light"
     },
     "output_type": "display_data"
    }
   ],
   "source": [
    "fig, axs = plt.subplots(4,2, figsize=(20,20))\n",
    "fig.suptitle('Difference in Backpain and BMI for Different Races')\n",
    "axs[0,0].hist(LHS_GED['bmi'], color=\"purple\")\n",
    "axs[0,1].hist(LHS_GED['backpain'], color=\"orange\")\n",
    "axs[1,0].hist(HS['bmi'], color=\"purple\")\n",
    "axs[1,1].hist(HS['backpain'], color=\"orange\")\n",
    "axs[2,0].hist(SC_AA['bmi'], color=\"purple\")\n",
    "axs[2,1].hist(SC_AA['backpain'], color=\"orange\")\n",
    "axs[3,0].hist(BA['bmi'], color=\"purple\")\n",
    "axs[3,1].hist(BA['backpain'], color=\"orange\")\n",
    "\n",
    "axs[0,0].set(xlabel='BMI', ylabel='Amount of Response')\n",
    "axs[0,1].set(xlabel='0 Backpain or 1 for Backpain', ylabel='Amount of Response')\n",
    "axs[1,0].set(xlabel='BMI', ylabel='Amount of Response')\n",
    "axs[1,1].set(xlabel='0 Backpain or 1 for Backpain', ylabel='Amount of Response')\n",
    "axs[2,0].set(xlabel='BMI', ylabel='Amount of Response')\n",
    "axs[2,1].set(xlabel='0 Backpain or 1 for Backpain', ylabel='Amount of Response')\n",
    "axs[3,0].set(xlabel='BMI', ylabel='Amount of Response')\n",
    "axs[3,1].set(xlabel='0 Backpain or 1 for Backpain', ylabel='Amount of Response')\n",
    "\n",
    "axs[0,0].set(title=\"LHS/GED\")\n",
    "axs[0,1].set(title=\"LHS/GED\")\n",
    "axs[1,0].set(title=\"HS\")\n",
    "axs[1,1].set(title=\"HS\")\n",
    "axs[2,0].set(title=\"SC/AA\")\n",
    "axs[2,1].set(title=\"SC/AA\")\n",
    "axs[3,0].set(title=\"BA\")\n",
    "axs[3,1].set(title=\"BA\")"
   ]
  },
  {
   "cell_type": "markdown",
   "id": "d7ed2fae",
   "metadata": {},
   "source": [
    "The four subplots on the left show BMI for each educational level. The four subplots on the right show back pain responses for educational level. The x-axis shows either back pain or BMI and the y-axis shows the amount of responses. GED has the highest yes response for back pain. Bachelor's degree has the lowest yes response for back pain."
   ]
  },
  {
   "cell_type": "markdown",
   "id": "d58eeaf7",
   "metadata": {},
   "source": [
    "Summary Statistics for BMI"
   ]
  },
  {
   "cell_type": "code",
   "execution_count": 196,
   "id": "4e16fff4",
   "metadata": {},
   "outputs": [
    {
     "data": {
      "text/plain": [
       "29.2171"
      ]
     },
     "execution_count": 196,
     "metadata": {},
     "output_type": "execute_result"
    }
   ],
   "source": [
    "round(np.mean(LHS_GED['bmi']),4)"
   ]
  },
  {
   "cell_type": "code",
   "execution_count": 197,
   "id": "7d3188ac",
   "metadata": {},
   "outputs": [
    {
     "data": {
      "text/plain": [
       "28.09"
      ]
     },
     "execution_count": 197,
     "metadata": {},
     "output_type": "execute_result"
    }
   ],
   "source": [
    "round(np.median(LHS_GED['bmi']),4)"
   ]
  },
  {
   "cell_type": "code",
   "execution_count": 198,
   "id": "8e606627",
   "metadata": {},
   "outputs": [
    {
     "data": {
      "text/plain": [
       "7.0096"
      ]
     },
     "execution_count": 198,
     "metadata": {},
     "output_type": "execute_result"
    }
   ],
   "source": [
    "round(np.std(LHS_GED['bmi']),4)"
   ]
  },
  {
   "cell_type": "code",
   "execution_count": 200,
   "id": "1a55c486",
   "metadata": {},
   "outputs": [
    {
     "data": {
      "text/plain": [
       "49.134"
      ]
     },
     "execution_count": 200,
     "metadata": {},
     "output_type": "execute_result"
    }
   ],
   "source": [
    "round(np.var(LHS_GED['bmi']),4)"
   ]
  },
  {
   "cell_type": "code",
   "execution_count": 201,
   "id": "e3c50fb4",
   "metadata": {},
   "outputs": [
    {
     "data": {
      "text/plain": [
       "28.697"
      ]
     },
     "execution_count": 201,
     "metadata": {},
     "output_type": "execute_result"
    }
   ],
   "source": [
    "round(np.mean(HS['bmi']),4)"
   ]
  },
  {
   "cell_type": "code",
   "execution_count": 202,
   "id": "48c6bd81",
   "metadata": {},
   "outputs": [
    {
     "data": {
      "text/plain": [
       "27.45"
      ]
     },
     "execution_count": 202,
     "metadata": {},
     "output_type": "execute_result"
    }
   ],
   "source": [
    "round(np.median(HS['bmi']),4)"
   ]
  },
  {
   "cell_type": "code",
   "execution_count": 203,
   "id": "312c805d",
   "metadata": {},
   "outputs": [
    {
     "data": {
      "text/plain": [
       "6.4409"
      ]
     },
     "execution_count": 203,
     "metadata": {},
     "output_type": "execute_result"
    }
   ],
   "source": [
    "round(np.std(HS['bmi']),4)"
   ]
  },
  {
   "cell_type": "code",
   "execution_count": 204,
   "id": "e3ec2d8c",
   "metadata": {},
   "outputs": [
    {
     "data": {
      "text/plain": [
       "41.4849"
      ]
     },
     "execution_count": 204,
     "metadata": {},
     "output_type": "execute_result"
    }
   ],
   "source": [
    "round(np.var(HS['bmi']),4)"
   ]
  },
  {
   "cell_type": "code",
   "execution_count": 205,
   "id": "533e3355",
   "metadata": {},
   "outputs": [
    {
     "data": {
      "text/plain": [
       "28.613"
      ]
     },
     "execution_count": 205,
     "metadata": {},
     "output_type": "execute_result"
    }
   ],
   "source": [
    "round(np.mean(SC_AA['bmi']),4)"
   ]
  },
  {
   "cell_type": "code",
   "execution_count": 206,
   "id": "ab3c939b",
   "metadata": {},
   "outputs": [
    {
     "data": {
      "text/plain": [
       "27.45"
      ]
     },
     "execution_count": 206,
     "metadata": {},
     "output_type": "execute_result"
    }
   ],
   "source": [
    "round(np.median(SC_AA['bmi']),4)"
   ]
  },
  {
   "cell_type": "code",
   "execution_count": 207,
   "id": "a97fb29b",
   "metadata": {},
   "outputs": [
    {
     "data": {
      "text/plain": [
       "6.2911"
      ]
     },
     "execution_count": 207,
     "metadata": {},
     "output_type": "execute_result"
    }
   ],
   "source": [
    "round(np.std(SC_AA['bmi']),4)"
   ]
  },
  {
   "cell_type": "code",
   "execution_count": 208,
   "id": "eea03f00",
   "metadata": {},
   "outputs": [
    {
     "data": {
      "text/plain": [
       "39.5778"
      ]
     },
     "execution_count": 208,
     "metadata": {},
     "output_type": "execute_result"
    }
   ],
   "source": [
    "round(np.var(SC_AA['bmi']),4)"
   ]
  },
  {
   "cell_type": "code",
   "execution_count": 209,
   "id": "66021367",
   "metadata": {},
   "outputs": [
    {
     "data": {
      "text/plain": [
       "27.0679"
      ]
     },
     "execution_count": 209,
     "metadata": {},
     "output_type": "execute_result"
    }
   ],
   "source": [
    "round(np.mean(BA['bmi']),4)"
   ]
  },
  {
   "cell_type": "code",
   "execution_count": 210,
   "id": "d79e86da",
   "metadata": {},
   "outputs": [
    {
     "data": {
      "text/plain": [
       "25.97"
      ]
     },
     "execution_count": 210,
     "metadata": {},
     "output_type": "execute_result"
    }
   ],
   "source": [
    "round(np.median(BA['bmi']),4)"
   ]
  },
  {
   "cell_type": "code",
   "execution_count": 211,
   "id": "7d8beb00",
   "metadata": {},
   "outputs": [
    {
     "data": {
      "text/plain": [
       "5.5382"
      ]
     },
     "execution_count": 211,
     "metadata": {},
     "output_type": "execute_result"
    }
   ],
   "source": [
    "round(np.std(BA['bmi']),4)"
   ]
  },
  {
   "cell_type": "code",
   "execution_count": 212,
   "id": "d1af26ad",
   "metadata": {},
   "outputs": [
    {
     "data": {
      "text/plain": [
       "30.6714"
      ]
     },
     "execution_count": 212,
     "metadata": {},
     "output_type": "execute_result"
    }
   ],
   "source": [
    "round(np.var(BA['bmi']),4)"
   ]
  },
  {
   "cell_type": "markdown",
   "id": "3d0019d2",
   "metadata": {},
   "source": [
    "| LHS/GED | HS | SC/AA | BA |\n",
    "| :- | -: | :-: | :-:|\n",
    "|mean: 29.2171|mean: 28.697|mean: 28.613|mean: 27.0679|\n",
    "|median: 28.09|median: 27.45|median: 27.45|median: 25.97|\n",
    "|standard deviation: 7.0096|standard deviation: 6.4409|standard deviation: 6.2911|standard deviation: 5.5382|\n",
    "|variance: 49.134|variance: 41.4849|variance: 39.5778|variance: 30.6714|"
   ]
  },
  {
   "cell_type": "markdown",
   "id": "9a771956",
   "metadata": {},
   "source": [
    "GED education level also has the highest average BMI, median, standard deviation, and variance.  Therefore, the values are more spread out from the mean. The Bachelor's degree education level also has the lowest average BMI, median, standard deviation, and variance. Therefore, the values are more centered around the mean. Even though the averages are not that much different from each other, the BMI data lines up with that of the back pain data. In other words, people with a GED have a higher BMI and are more likely to have back pain. People with a bachelor's degree have a lower BMI and are less likely to have backpain. I believe we can conclude that education level has a slight affect on both BMI and back pain."
   ]
  },
  {
   "cell_type": "markdown",
   "id": "a6a47564",
   "metadata": {},
   "source": [
    "Because I found educational leve to be the most interesting, I am going to compare age and educational level."
   ]
  },
  {
   "cell_type": "code",
   "execution_count": 213,
   "id": "cc54668c",
   "metadata": {},
   "outputs": [],
   "source": [
    "LHS_GED=df[df['edu4']=='LHS/GED'][['backpain','bmi', 'edu4', 'age']]\n",
    "HS=df[df['edu4']=='HS'][['backpain','bmi', 'edu4', 'age']]\n",
    "SC_AA=df[df['edu4']=='SC/AA'][['backpain','bmi', 'edu4', 'age']]\n",
    "BA=df[df['edu4']=='BA+'][['backpain','bmi', 'edu4', 'age']]"
   ]
  },
  {
   "cell_type": "code",
   "execution_count": 227,
   "id": "eb72b4a9",
   "metadata": {
    "scrolled": false
   },
   "outputs": [
    {
     "data": {
      "text/plain": [
       "[Text(0.5, 1.0, 'BA Age 69')]"
      ]
     },
     "execution_count": 227,
     "metadata": {},
     "output_type": "execute_result"
    },
    {
     "data": {
      "image/png": "[encoded data removed]",
      "text/plain": [
       "<Figure size 1440x1440 with 16 Axes>"
      ]
     },
     "metadata": {
      "needs_background": "light"
     },
     "output_type": "display_data"
    }
   ],
   "source": [
    "fig, axs = plt.subplots(4,4, figsize=(20,20))\n",
    "fig.suptitle('Difference in Backpain and BMI for Different Levels of Education for Age 30 and 69')\n",
    "axs[0,0].hist(LHS_GED[LHS_GED['age']==30][['bmi']], color=\"purple\")\n",
    "axs[0,1].hist(LHS_GED[LHS_GED['age']==30][['backpain']], color=\"purple\")\n",
    "axs[0,2].hist(LHS_GED[LHS_GED['age']==69][['bmi']], color=\"purple\")\n",
    "axs[0,3].hist(LHS_GED[LHS_GED['age']==69][['backpain']], color=\"purple\")\n",
    "axs[0,0].set(xlabel='BMI', ylabel='Amount of Response')\n",
    "axs[0,1].set(xlabel='0 Backpain or 1 for Backpain', ylabel='Amount of Response')\n",
    "axs[0,2].set(xlabel='BMI', ylabel='Amount of Response')\n",
    "axs[0,3].set(xlabel='0 Backpain or 1 for Backpain', ylabel='Amount of Response')\n",
    "axs[0,0].set(title=\"LHS/GED Age 30\")\n",
    "axs[0,1].set(title=\"LHS/GED Age 30\")\n",
    "axs[0,2].set(title=\"LHS/GED Age 69\")\n",
    "axs[0,3].set(title=\"LHS/GED Age 69\")\n",
    "\n",
    "axs[1,0].hist(HS[HS['age']==30][['bmi']], color=\"blue\")\n",
    "axs[1,1].hist(HS[HS['age']==30][['backpain']], color=\"blue\")\n",
    "axs[1,2].hist(HS[HS['age']==69][['bmi']], color=\"blue\")\n",
    "axs[1,3].hist(HS[HS['age']==69][['backpain']], color=\"blue\")\n",
    "axs[1,0].set(xlabel='BMI', ylabel='Amount of Response')\n",
    "axs[1,1].set(xlabel='0 Backpain or 1 for Backpain', ylabel='Amount of Response')\n",
    "axs[1,2].set(xlabel='BMI', ylabel='Amount of Response')\n",
    "axs[1,3].set(xlabel='0 Backpain or 1 for Backpain', ylabel='Amount of Response')\n",
    "axs[1,0].set(title=\"HS Age 30\")\n",
    "axs[1,1].set(title=\"HS Age 30\")\n",
    "axs[1,2].set(title=\"HS Age 69\")\n",
    "axs[1,3].set(title=\"HS Age 69\")\n",
    "\n",
    "axs[2,0].hist(SC_AA[SC_AA['age']==30][['bmi']], color=\"green\")\n",
    "axs[2,1].hist(SC_AA[SC_AA['age']==30][['backpain']], color=\"green\")\n",
    "axs[2,2].hist(SC_AA[SC_AA['age']==69][['bmi']], color=\"green\")\n",
    "axs[2,3].hist(SC_AA[SC_AA['age']==69][['backpain']], color=\"green\")\n",
    "axs[2,0].set(xlabel='BMI', ylabel='Amount of Response')\n",
    "axs[2,1].set(xlabel='0 Backpain or 1 for Backpain', ylabel='Amount of Response')\n",
    "axs[2,2].set(xlabel='BMI', ylabel='Amount of Response')\n",
    "axs[2,3].set(xlabel='0 Backpain or 1 for Backpain', ylabel='Amount of Response')\n",
    "axs[2,0].set(title=\"SC/AA Age 30\")\n",
    "axs[2,1].set(title=\"SC/AA Age 30\")\n",
    "axs[2,2].set(title=\"SC/AA Age 69\")\n",
    "axs[2,3].set(title=\"SC/AA Age 69\")\n",
    "\n",
    "axs[3,0].hist(BA[BA['age']==30][['bmi']], color=\"red\")\n",
    "axs[3,1].hist(BA[BA['age']==30][['backpain']], color=\"red\")\n",
    "axs[3,2].hist(BA[BA['age']==69][['bmi']], color=\"red\")\n",
    "axs[3,3].hist(BA[BA['age']==69][['backpain']], color=\"red\")\n",
    "axs[3,0].set(xlabel='BMI', ylabel='Amount of Response')\n",
    "axs[3,1].set(xlabel='0 Backpain or 1 for Backpain', ylabel='Amount of Response')\n",
    "axs[3,2].set(xlabel='BMI', ylabel='Amount of Response')\n",
    "axs[3,3].set(xlabel='0 Backpain or 1 for Backpain', ylabel='Amount of Response')\n",
    "axs[3,0].set(title=\"BA Age 30\")\n",
    "axs[3,1].set(title=\"BA Age 30\")\n",
    "axs[3,2].set(title=\"BA Age 69\")\n",
    "axs[3,3].set(title=\"BA Age 69\")"
   ]
  },
  {
   "cell_type": "markdown",
   "id": "54446d08",
   "metadata": {},
   "source": [
    "Age 30 with a BA has the lowest amount of yes responses for back pain. Age 69 with a GED has the highest amount of yes responses for back pain. Age 69 with a BA has the lowest BMI barely reaching 50. Age 30 with a GED has the highest BMI reaching up to 70. Therefore, these stats line up with those without age."
   ]
  },
  {
   "cell_type": "markdown",
   "id": "ae9a4aa8",
   "metadata": {},
   "source": [
    "Gender can affect back pain, but not necessarily BMI since the averages were so close.\n",
    "Race does not have any affect on back pain since the ratios were so similar or BMI.\n",
    "Education can affect back pain, and slightly affect BMI.\n",
    "Higher age with a higher education level has a lower BMI. Higher age with a lower education has a higher amount of back pain."
   ]
  }
 ],
 "metadata": {
  "kernelspec": {
   "display_name": "Python 3 (ipykernel)",
   "language": "python",
   "name": "python3"
  },
  "language_info": {
   "codemirror_mode": {
    "name": "ipython",
    "version": 3
   },
   "file_extension": ".py",
   "mimetype": "text/x-python",
   "name": "python",
   "nbconvert_exporter": "python",
   "pygments_lexer": "ipython3",
   "version": "3.9.12"
  }
 },
 "nbformat": 4,
 "nbformat_minor": 5
}
